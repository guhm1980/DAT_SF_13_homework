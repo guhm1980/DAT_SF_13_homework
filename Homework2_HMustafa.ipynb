{
 "metadata": {
  "name": "",
  "signature": "sha256:6cdf44fbb0bf351ac97d8d62a15015306c2953ce169c07af6815a61304a49882"
 },
 "nbformat": 3,
 "nbformat_minor": 0,
 "worksheets": [
  {
   "cells": [
    {
     "cell_type": "code",
     "collapsed": false,
     "input": [
      "%matplotlib inline\n",
      "from __future__ import division\n",
      "import pandas as pd\n",
      "import numpy as np\n",
      "from seaborn import plt\n",
      "import matplotlib.pyplot as plt\n",
      "from sklearn.datasets import load_iris\n",
      "from sklearn import neighbors, datasets, feature_selection\n",
      "from sklearn.cross_validation import train_test_split, cross_val_score"
     ],
     "language": "python",
     "metadata": {},
     "outputs": [],
     "prompt_number": 2
    },
    {
     "cell_type": "code",
     "collapsed": false,
     "input": [],
     "language": "python",
     "metadata": {},
     "outputs": [],
     "prompt_number": 114
    },
    {
     "cell_type": "code",
     "collapsed": false,
     "input": [
      "iris = datasets.load_iris()\n",
      "iris_df = pd.DataFrame(iris.data, columns=iris.feature_names)\n",
      "iris_df.describe()\n",
      "iris_df.head()"
     ],
     "language": "python",
     "metadata": {},
     "outputs": [
      {
       "html": [
        "<div style=\"max-height:1000px;max-width:1500px;overflow:auto;\">\n",
        "<table border=\"1\" class=\"dataframe\">\n",
        "  <thead>\n",
        "    <tr style=\"text-align: right;\">\n",
        "      <th></th>\n",
        "      <th>sepal length (cm)</th>\n",
        "      <th>sepal width (cm)</th>\n",
        "      <th>petal length (cm)</th>\n",
        "      <th>petal width (cm)</th>\n",
        "    </tr>\n",
        "  </thead>\n",
        "  <tbody>\n",
        "    <tr>\n",
        "      <th>0</th>\n",
        "      <td> 5.1</td>\n",
        "      <td> 3.5</td>\n",
        "      <td> 1.4</td>\n",
        "      <td> 0.2</td>\n",
        "    </tr>\n",
        "    <tr>\n",
        "      <th>1</th>\n",
        "      <td> 4.9</td>\n",
        "      <td> 3.0</td>\n",
        "      <td> 1.4</td>\n",
        "      <td> 0.2</td>\n",
        "    </tr>\n",
        "    <tr>\n",
        "      <th>2</th>\n",
        "      <td> 4.7</td>\n",
        "      <td> 3.2</td>\n",
        "      <td> 1.3</td>\n",
        "      <td> 0.2</td>\n",
        "    </tr>\n",
        "    <tr>\n",
        "      <th>3</th>\n",
        "      <td> 4.6</td>\n",
        "      <td> 3.1</td>\n",
        "      <td> 1.5</td>\n",
        "      <td> 0.2</td>\n",
        "    </tr>\n",
        "    <tr>\n",
        "      <th>4</th>\n",
        "      <td> 5.0</td>\n",
        "      <td> 3.6</td>\n",
        "      <td> 1.4</td>\n",
        "      <td> 0.2</td>\n",
        "    </tr>\n",
        "  </tbody>\n",
        "</table>\n",
        "</div>"
       ],
       "metadata": {},
       "output_type": "pyout",
       "prompt_number": 3,
       "text": [
        "   sepal length (cm)  sepal width (cm)  petal length (cm)  petal width (cm)\n",
        "0                5.1               3.5                1.4               0.2\n",
        "1                4.9               3.0                1.4               0.2\n",
        "2                4.7               3.2                1.3               0.2\n",
        "3                4.6               3.1                1.5               0.2\n",
        "4                5.0               3.6                1.4               0.2"
       ]
      }
     ],
     "prompt_number": 3
    },
    {
     "cell_type": "code",
     "collapsed": false,
     "input": [
      "n_neighbors = range(1, 51, 2)\n",
      "print n_neighbors"
     ],
     "language": "python",
     "metadata": {},
     "outputs": [
      {
       "output_type": "stream",
       "stream": "stdout",
       "text": [
        "[1, 3, 5, 7, 9, 11, 13, 15, 17, 19, 21, 23, 25, 27, 29, 31, 33, 35, 37, 39, 41, 43, 45, 47, 49]\n"
       ]
      }
     ],
     "prompt_number": 4
    },
    {
     "cell_type": "code",
     "collapsed": false,
     "input": [
      "data = iris.target\n",
      "type(data)"
     ],
     "language": "python",
     "metadata": {},
     "outputs": [
      {
       "metadata": {},
       "output_type": "pyout",
       "prompt_number": 5,
       "text": [
        "numpy.ndarray"
       ]
      }
     ],
     "prompt_number": 5
    },
    {
     "cell_type": "code",
     "collapsed": false,
     "input": [],
     "language": "python",
     "metadata": {},
     "outputs": [],
     "prompt_number": 112
    },
    {
     "cell_type": "code",
     "collapsed": false,
     "input": [],
     "language": "python",
     "metadata": {},
     "outputs": [],
     "prompt_number": 5
    },
    {
     "cell_type": "code",
     "collapsed": false,
     "input": [
      "print iris"
     ],
     "language": "python",
     "metadata": {},
     "outputs": [
      {
       "output_type": "stream",
       "stream": "stdout",
       "text": [
        "{'target_names': array(['setosa', 'versicolor', 'virginica'], \n",
        "      dtype='|S10'), 'data': array([[ 5.1,  3.5,  1.4,  0.2],\n",
        "       [ 4.9,  3. ,  1.4,  0.2],\n",
        "       [ 4.7,  3.2,  1.3,  0.2],\n",
        "       [ 4.6,  3.1,  1.5,  0.2],\n",
        "       [ 5. ,  3.6,  1.4,  0.2],\n",
        "       [ 5.4,  3.9,  1.7,  0.4],\n",
        "       [ 4.6,  3.4,  1.4,  0.3],\n",
        "       [ 5. ,  3.4,  1.5,  0.2],\n",
        "       [ 4.4,  2.9,  1.4,  0.2],\n",
        "       [ 4.9,  3.1,  1.5,  0.1],\n",
        "       [ 5.4,  3.7,  1.5,  0.2],\n",
        "       [ 4.8,  3.4,  1.6,  0.2],\n",
        "       [ 4.8,  3. ,  1.4,  0.1],\n",
        "       [ 4.3,  3. ,  1.1,  0.1],\n",
        "       [ 5.8,  4. ,  1.2,  0.2],\n",
        "       [ 5.7,  4.4,  1.5,  0.4],\n",
        "       [ 5.4,  3.9,  1.3,  0.4],\n",
        "       [ 5.1,  3.5,  1.4,  0.3],\n",
        "       [ 5.7,  3.8,  1.7,  0.3],\n",
        "       [ 5.1,  3.8,  1.5,  0.3],\n",
        "       [ 5.4,  3.4,  1.7,  0.2],\n",
        "       [ 5.1,  3.7,  1.5,  0.4],\n",
        "       [ 4.6,  3.6,  1. ,  0.2],\n",
        "       [ 5.1,  3.3,  1.7,  0.5],\n",
        "       [ 4.8,  3.4,  1.9,  0.2],\n",
        "       [ 5. ,  3. ,  1.6,  0.2],\n",
        "       [ 5. ,  3.4,  1.6,  0.4],\n",
        "       [ 5.2,  3.5,  1.5,  0.2],\n",
        "       [ 5.2,  3.4,  1.4,  0.2],\n",
        "       [ 4.7,  3.2,  1.6,  0.2],\n",
        "       [ 4.8,  3.1,  1.6,  0.2],\n",
        "       [ 5.4,  3.4,  1.5,  0.4],\n",
        "       [ 5.2,  4.1,  1.5,  0.1],\n",
        "       [ 5.5,  4.2,  1.4,  0.2],\n",
        "       [ 4.9,  3.1,  1.5,  0.1],\n",
        "       [ 5. ,  3.2,  1.2,  0.2],\n",
        "       [ 5.5,  3.5,  1.3,  0.2],\n",
        "       [ 4.9,  3.1,  1.5,  0.1],\n",
        "       [ 4.4,  3. ,  1.3,  0.2],\n",
        "       [ 5.1,  3.4,  1.5,  0.2],\n",
        "       [ 5. ,  3.5,  1.3,  0.3],\n",
        "       [ 4.5,  2.3,  1.3,  0.3],\n",
        "       [ 4.4,  3.2,  1.3,  0.2],\n",
        "       [ 5. ,  3.5,  1.6,  0.6],\n",
        "       [ 5.1,  3.8,  1.9,  0.4],\n",
        "       [ 4.8,  3. ,  1.4,  0.3],\n",
        "       [ 5.1,  3.8,  1.6,  0.2],\n",
        "       [ 4.6,  3.2,  1.4,  0.2],\n",
        "       [ 5.3,  3.7,  1.5,  0.2],\n",
        "       [ 5. ,  3.3,  1.4,  0.2],\n",
        "       [ 7. ,  3.2,  4.7,  1.4],\n",
        "       [ 6.4,  3.2,  4.5,  1.5],\n",
        "       [ 6.9,  3.1,  4.9,  1.5],\n",
        "       [ 5.5,  2.3,  4. ,  1.3],\n",
        "       [ 6.5,  2.8,  4.6,  1.5],\n",
        "       [ 5.7,  2.8,  4.5,  1.3],\n",
        "       [ 6.3,  3.3,  4.7,  1.6],\n",
        "       [ 4.9,  2.4,  3.3,  1. ],\n",
        "       [ 6.6,  2.9,  4.6,  1.3],\n",
        "       [ 5.2,  2.7,  3.9,  1.4],\n",
        "       [ 5. ,  2. ,  3.5,  1. ],\n",
        "       [ 5.9,  3. ,  4.2,  1.5],\n",
        "       [ 6. ,  2.2,  4. ,  1. ],\n",
        "       [ 6.1,  2.9,  4.7,  1.4],\n",
        "       [ 5.6,  2.9,  3.6,  1.3],\n",
        "       [ 6.7,  3.1,  4.4,  1.4],\n",
        "       [ 5.6,  3. ,  4.5,  1.5],\n",
        "       [ 5.8,  2.7,  4.1,  1. ],\n",
        "       [ 6.2,  2.2,  4.5,  1.5],\n",
        "       [ 5.6,  2.5,  3.9,  1.1],\n",
        "       [ 5.9,  3.2,  4.8,  1.8],\n",
        "       [ 6.1,  2.8,  4. ,  1.3],\n",
        "       [ 6.3,  2.5,  4.9,  1.5],\n",
        "       [ 6.1,  2.8,  4.7,  1.2],\n",
        "       [ 6.4,  2.9,  4.3,  1.3],\n",
        "       [ 6.6,  3. ,  4.4,  1.4],\n",
        "       [ 6.8,  2.8,  4.8,  1.4],\n",
        "       [ 6.7,  3. ,  5. ,  1.7],\n",
        "       [ 6. ,  2.9,  4.5,  1.5],\n",
        "       [ 5.7,  2.6,  3.5,  1. ],\n",
        "       [ 5.5,  2.4,  3.8,  1.1],\n",
        "       [ 5.5,  2.4,  3.7,  1. ],\n",
        "       [ 5.8,  2.7,  3.9,  1.2],\n",
        "       [ 6. ,  2.7,  5.1,  1.6],\n",
        "       [ 5.4,  3. ,  4.5,  1.5],\n",
        "       [ 6. ,  3.4,  4.5,  1.6],\n",
        "       [ 6.7,  3.1,  4.7,  1.5],\n",
        "       [ 6.3,  2.3,  4.4,  1.3],\n",
        "       [ 5.6,  3. ,  4.1,  1.3],\n",
        "       [ 5.5,  2.5,  4. ,  1.3],\n",
        "       [ 5.5,  2.6,  4.4,  1.2],\n",
        "       [ 6.1,  3. ,  4.6,  1.4],\n",
        "       [ 5.8,  2.6,  4. ,  1.2],\n",
        "       [ 5. ,  2.3,  3.3,  1. ],\n",
        "       [ 5.6,  2.7,  4.2,  1.3],\n",
        "       [ 5.7,  3. ,  4.2,  1.2],\n",
        "       [ 5.7,  2.9,  4.2,  1.3],\n",
        "       [ 6.2,  2.9,  4.3,  1.3],\n",
        "       [ 5.1,  2.5,  3. ,  1.1],\n",
        "       [ 5.7,  2.8,  4.1,  1.3],\n",
        "       [ 6.3,  3.3,  6. ,  2.5],\n",
        "       [ 5.8,  2.7,  5.1,  1.9],\n",
        "       [ 7.1,  3. ,  5.9,  2.1],\n",
        "       [ 6.3,  2.9,  5.6,  1.8],\n",
        "       [ 6.5,  3. ,  5.8,  2.2],\n",
        "       [ 7.6,  3. ,  6.6,  2.1],\n",
        "       [ 4.9,  2.5,  4.5,  1.7],\n",
        "       [ 7.3,  2.9,  6.3,  1.8],\n",
        "       [ 6.7,  2.5,  5.8,  1.8],\n",
        "       [ 7.2,  3.6,  6.1,  2.5],\n",
        "       [ 6.5,  3.2,  5.1,  2. ],\n",
        "       [ 6.4,  2.7,  5.3,  1.9],\n",
        "       [ 6.8,  3. ,  5.5,  2.1],\n",
        "       [ 5.7,  2.5,  5. ,  2. ],\n",
        "       [ 5.8,  2.8,  5.1,  2.4],\n",
        "       [ 6.4,  3.2,  5.3,  2.3],\n",
        "       [ 6.5,  3. ,  5.5,  1.8],\n",
        "       [ 7.7,  3.8,  6.7,  2.2],\n",
        "       [ 7.7,  2.6,  6.9,  2.3],\n",
        "       [ 6. ,  2.2,  5. ,  1.5],\n",
        "       [ 6.9,  3.2,  5.7,  2.3],\n",
        "       [ 5.6,  2.8,  4.9,  2. ],\n",
        "       [ 7.7,  2.8,  6.7,  2. ],\n",
        "       [ 6.3,  2.7,  4.9,  1.8],\n",
        "       [ 6.7,  3.3,  5.7,  2.1],\n",
        "       [ 7.2,  3.2,  6. ,  1.8],\n",
        "       [ 6.2,  2.8,  4.8,  1.8],\n",
        "       [ 6.1,  3. ,  4.9,  1.8],\n",
        "       [ 6.4,  2.8,  5.6,  2.1],\n",
        "       [ 7.2,  3. ,  5.8,  1.6],\n",
        "       [ 7.4,  2.8,  6.1,  1.9],\n",
        "       [ 7.9,  3.8,  6.4,  2. ],\n",
        "       [ 6.4,  2.8,  5.6,  2.2],\n",
        "       [ 6.3,  2.8,  5.1,  1.5],\n",
        "       [ 6.1,  2.6,  5.6,  1.4],\n",
        "       [ 7.7,  3. ,  6.1,  2.3],\n",
        "       [ 6.3,  3.4,  5.6,  2.4],\n",
        "       [ 6.4,  3.1,  5.5,  1.8],\n",
        "       [ 6. ,  3. ,  4.8,  1.8],\n",
        "       [ 6.9,  3.1,  5.4,  2.1],\n",
        "       [ 6.7,  3.1,  5.6,  2.4],\n",
        "       [ 6.9,  3.1,  5.1,  2.3],\n",
        "       [ 5.8,  2.7,  5.1,  1.9],\n",
        "       [ 6.8,  3.2,  5.9,  2.3],\n",
        "       [ 6.7,  3.3,  5.7,  2.5],\n",
        "       [ 6.7,  3. ,  5.2,  2.3],\n",
        "       [ 6.3,  2.5,  5. ,  1.9],\n",
        "       [ 6.5,  3. ,  5.2,  2. ],\n",
        "       [ 6.2,  3.4,  5.4,  2.3],\n",
        "       [ 5.9,  3. ,  5.1,  1.8]]), 'target': array([0, 0, 0, 0, 0, 0, 0, 0, 0, 0, 0, 0, 0, 0, 0, 0, 0, 0, 0, 0, 0, 0, 0,\n",
        "       0, 0, 0, 0, 0, 0, 0, 0, 0, 0, 0, 0, 0, 0, 0, 0, 0, 0, 0, 0, 0, 0, 0,\n",
        "       0, 0, 0, 0, 1, 1, 1, 1, 1, 1, 1, 1, 1, 1, 1, 1, 1, 1, 1, 1, 1, 1, 1,\n",
        "       1, 1, 1, 1, 1, 1, 1, 1, 1, 1, 1, 1, 1, 1, 1, 1, 1, 1, 1, 1, 1, 1, 1,\n",
        "       1, 1, 1, 1, 1, 1, 1, 1, 2, 2, 2, 2, 2, 2, 2, 2, 2, 2, 2, 2, 2, 2, 2,\n",
        "       2, 2, 2, 2, 2, 2, 2, 2, 2, 2, 2, 2, 2, 2, 2, 2, 2, 2, 2, 2, 2, 2, 2,\n",
        "       2, 2, 2, 2, 2, 2, 2, 2, 2, 2, 2, 2]), 'DESCR': 'Iris Plants Database\\n\\nNotes\\n-----\\nData Set Characteristics:\\n    :Number of Instances: 150 (50 in each of three classes)\\n    :Number of Attributes: 4 numeric, predictive attributes and the class\\n    :Attribute Information:\\n        - sepal length in cm\\n        - sepal width in cm\\n        - petal length in cm\\n        - petal width in cm\\n        - class:\\n                - Iris-Setosa\\n                - Iris-Versicolour\\n                - Iris-Virginica\\n    :Summary Statistics:\\n    ============== ==== ==== ======= ===== ====================\\n                    Min  Max   Mean    SD   Class Correlation\\n    ============== ==== ==== ======= ===== ====================\\n    sepal length:   4.3  7.9   5.84   0.83    0.7826\\n    sepal width:    2.0  4.4   3.05   0.43   -0.4194\\n    petal length:   1.0  6.9   3.76   1.76    0.9490  (high!)\\n    petal width:    0.1  2.5   1.20  0.76     0.9565  (high!)\\n    ============== ==== ==== ======= ===== ====================\\n    :Missing Attribute Values: None\\n    :Class Distribution: 33.3% for each of 3 classes.\\n    :Creator: R.A. Fisher\\n    :Donor: Michael Marshall (MARSHALL%PLU@io.arc.nasa.gov)\\n    :Date: July, 1988\\n\\nThis is a copy of UCI ML iris datasets.\\nhttp://archive.ics.uci.edu/ml/datasets/Iris\\n\\nThe famous Iris database, first used by Sir R.A Fisher\\n\\nThis is perhaps the best known database to be found in the\\npattern recognition literature.  Fisher\\'s paper is a classic in the field and\\nis referenced frequently to this day.  (See Duda & Hart, for example.)  The\\ndata set contains 3 classes of 50 instances each, where each class refers to a\\ntype of iris plant.  One class is linearly separable from the other 2; the\\nlatter are NOT linearly separable from each other.\\n\\nReferences\\n----------\\n   - Fisher,R.A. \"The use of multiple measurements in taxonomic problems\"\\n     Annual Eugenics, 7, Part II, 179-188 (1936); also in \"Contributions to\\n     Mathematical Statistics\" (John Wiley, NY, 1950).\\n   - Duda,R.O., & Hart,P.E. (1973) Pattern Classification and Scene Analysis.\\n     (Q327.D83) John Wiley & Sons.  ISBN 0-471-22361-1.  See page 218.\\n   - Dasarathy, B.V. (1980) \"Nosing Around the Neighborhood: A New System\\n     Structure and Classification Rule for Recognition in Partially Exposed\\n     Environments\".  IEEE Transactions on Pattern Analysis and Machine\\n     Intelligence, Vol. PAMI-2, No. 1, 67-71.\\n   - Gates, G.W. (1972) \"The Reduced Nearest Neighbor Rule\".  IEEE Transactions\\n     on Information Theory, May 1972, 431-433.\\n   - See also: 1988 MLC Proceedings, 54-64.  Cheeseman et al\"s AUTOCLASS II\\n     conceptual clustering system finds 3 classes in the data.\\n   - Many, many more ...\\n', 'feature_names': ['sepal length (cm)', 'sepal width (cm)', 'petal length (cm)', 'petal width (cm)']}\n"
       ]
      }
     ],
     "prompt_number": 9
    },
    {
     "cell_type": "code",
     "collapsed": false,
     "input": [
      "# Questiion 1 - Implement KNN classification, using the sklearn package. \n",
      "\n",
      "X_train, X_test, y_train, y_test = train_test_split(iris.data, iris.target, test_size=0.2, random_state=0)"
     ],
     "language": "python",
     "metadata": {},
     "outputs": [],
     "prompt_number": 7
    },
    {
     "cell_type": "code",
     "collapsed": false,
     "input": [
      "# Loop through each neighbors value from 1 to 51 and append the scores\n",
      "scores = []\n",
      "for n in n_neighbors:\n",
      "    clf = neighbors.KNeighborsClassifier(n)\n",
      "    clf.fit(X_train, y_train)\n",
      "    scores.append(clf.score(X_test, y_test))"
     ],
     "language": "python",
     "metadata": {},
     "outputs": [],
     "prompt_number": 8
    },
    {
     "cell_type": "code",
     "collapsed": false,
     "input": [
      "plt.plot(n_neighbors, scores, linewidth=3.0)"
     ],
     "language": "python",
     "metadata": {},
     "outputs": [
      {
       "metadata": {},
       "output_type": "pyout",
       "prompt_number": 32,
       "text": [
        "[<matplotlib.lines.Line2D at 0x10b032c50>]"
       ]
      },
      {
       "metadata": {},
       "output_type": "display_data",
       "png": "[encoded data removed]",
       "text": [
        "<matplotlib.figure.Figure at 0x10a00bcd0>"
       ]
      }
     ],
     "prompt_number": 32
    },
    {
     "cell_type": "code",
     "collapsed": false,
     "input": [
      "print scores"
     ],
     "language": "python",
     "metadata": {},
     "outputs": [
      {
       "output_type": "stream",
       "stream": "stdout",
       "text": [
        "[1.0, 0.96666666666666667, 0.96666666666666667, 1.0, 1.0, 1.0, 1.0, 1.0, 1.0, 1.0, 1.0, 1.0, 1.0, 0.93333333333333335, 0.96666666666666667, 0.93333333333333335, 0.93333333333333335, 0.93333333333333335, 0.93333333333333335, 0.93333333333333335, 0.93333333333333335, 0.93333333333333335, 0.93333333333333335, 0.90000000000000002, 0.90000000000000002]\n"
       ]
      }
     ],
     "prompt_number": 9
    },
    {
     "cell_type": "code",
     "collapsed": false,
     "input": [
      "#On this trianing split, the ideal value for neighbors k is 9-27.   "
     ],
     "language": "python",
     "metadata": {},
     "outputs": [],
     "prompt_number": 16
    },
    {
     "cell_type": "code",
     "collapsed": false,
     "input": [
      "#Question 2 - implement cross validation \n",
      "\n",
      "from sklearn.cross_validation import cross_val_score\n",
      "iris = datasets.load_iris()\n",
      "iris_df = pd.DataFrame(iris.data, columns=iris.feature_names)\n",
      "clf = neighbors.KNeighborsClassifier(9, weights='uniform')\n",
      "scores = cross_val_score(clf, iris_df.values, iris.target, cv=5)"
     ],
     "language": "python",
     "metadata": {},
     "outputs": [],
     "prompt_number": 10
    },
    {
     "cell_type": "code",
     "collapsed": false,
     "input": [
      "print scores\n",
      "print scores.mean()"
     ],
     "language": "python",
     "metadata": {},
     "outputs": [
      {
       "output_type": "stream",
       "stream": "stdout",
       "text": [
        "[ 0.96666667  1.          0.96666667  0.93333333  1.        ]\n",
        "0.973333333333\n"
       ]
      }
     ],
     "prompt_number": 11
    },
    {
     "cell_type": "code",
     "collapsed": false,
     "input": [
      "#we will try this on multiple values of K, based on the optimal range for k of 9-17 determined in Question #1\n",
      "from sklearn.cross_validation import cross_val_score\n",
      "iris = datasets.load_iris()\n",
      "iris_df = pd.DataFrame(iris.data, columns=iris.feature_names)\n",
      "clf = neighbors.KNeighborsClassifier(11, weights='uniform')\n",
      "scores = cross_val_score(clf, iris_df.values, iris.target, cv=5)\n",
      "print scores\n",
      "print scores.mean()"
     ],
     "language": "python",
     "metadata": {},
     "outputs": [
      {
       "output_type": "stream",
       "stream": "stdout",
       "text": [
        "[ 0.93333333  1.          1.          0.96666667  1.        ]\n",
        "0.98\n"
       ]
      }
     ],
     "prompt_number": 12
    },
    {
     "cell_type": "code",
     "collapsed": false,
     "input": [
      "from sklearn.cross_validation import cross_val_score\n",
      "iris = datasets.load_iris()\n",
      "iris_df = pd.DataFrame(iris.data, columns=iris.feature_names)\n",
      "clf = neighbors.KNeighborsClassifier(17, weights='uniform')\n",
      "scores = cross_val_score(clf, iris_df.values, iris.target, cv=5)\n",
      "print scores\n",
      "print scores.mean()"
     ],
     "language": "python",
     "metadata": {},
     "outputs": [
      {
       "output_type": "stream",
       "stream": "stdout",
       "text": [
        "[ 0.93333333  1.          0.93333333  0.96666667  1.        ]\n",
        "0.966666666667\n"
       ]
      }
     ],
     "prompt_number": 13
    },
    {
     "cell_type": "code",
     "collapsed": false,
     "input": [
      "# Question 3 - determine optimal value for k \n",
      "# 5 fold generalization error is lowest when k = 11, and we see a fairly consistent representation of accuracy across all folds. "
     ],
     "language": "python",
     "metadata": {},
     "outputs": []
    },
    {
     "cell_type": "code",
     "collapsed": false,
     "input": [
      "#Question 4 - Using matplotlib, plot classifier accuracy versus the hyperparameter K for a range of K that you consider interesting. Explain in words what you are seeing.\n",
      "\n",
      "scores = []\n",
      "for n in n_neighbors:\n",
      "    clf = neighbors.KNeighborsClassifier(n)\n",
      "    clf.fit(X_train, y_train)\n",
      "    scores.append(clf.score(X_test, y_test))"
     ],
     "language": "python",
     "metadata": {},
     "outputs": [],
     "prompt_number": 14
    },
    {
     "cell_type": "code",
     "collapsed": false,
     "input": [
      "plt.plot(n_neighbors, scores, linewidth=3.0)"
     ],
     "language": "python",
     "metadata": {},
     "outputs": [
      {
       "metadata": {},
       "output_type": "pyout",
       "prompt_number": 34,
       "text": [
        "[<matplotlib.lines.Line2D at 0x10b167a90>]"
       ]
      },
      {
       "metadata": {},
       "output_type": "display_data",
       "png": "[encoded data removed]",
       "text": [
        "<matplotlib.figure.Figure at 0x10a786ed0>"
       ]
      }
     ],
     "prompt_number": 34
    },
    {
     "cell_type": "code",
     "collapsed": false,
     "input": [
      "# the ideal value for neighbors k is 9-27, at this value model accuracy is 100% "
     ],
     "language": "python",
     "metadata": {},
     "outputs": []
    },
    {
     "cell_type": "code",
     "collapsed": false,
     "input": [
      "# Question 5 - Write your own implementation of cross validation "
     ],
     "language": "python",
     "metadata": {},
     "outputs": [],
     "prompt_number": 35
    },
    {
     "cell_type": "code",
     "collapsed": false,
     "input": [
      "iris = datasets.load_iris()\n",
      "iris_df = pd.DataFrame(iris.data, columns=iris.feature_names)\n",
      "iris_df.describe()\n",
      "iris_df['target'] = iris.target  #append Target data to iris_df dataframe\n",
      "print iris_df"
     ],
     "language": "python",
     "metadata": {},
     "outputs": [
      {
       "output_type": "stream",
       "stream": "stdout",
       "text": [
        "     sepal length (cm)  sepal width (cm)  petal length (cm)  petal width (cm)  \\\n",
        "0                  5.1               3.5                1.4               0.2   \n",
        "1                  4.9               3.0                1.4               0.2   \n",
        "2                  4.7               3.2                1.3               0.2   \n",
        "3                  4.6               3.1                1.5               0.2   \n",
        "4                  5.0               3.6                1.4               0.2   \n",
        "5                  5.4               3.9                1.7               0.4   \n",
        "6                  4.6               3.4                1.4               0.3   \n",
        "7                  5.0               3.4                1.5               0.2   \n",
        "8                  4.4               2.9                1.4               0.2   \n",
        "9                  4.9               3.1                1.5               0.1   \n",
        "10                 5.4               3.7                1.5               0.2   \n",
        "11                 4.8               3.4                1.6               0.2   \n",
        "12                 4.8               3.0                1.4               0.1   \n",
        "13                 4.3               3.0                1.1               0.1   \n",
        "14                 5.8               4.0                1.2               0.2   \n",
        "15                 5.7               4.4                1.5               0.4   \n",
        "16                 5.4               3.9                1.3               0.4   \n",
        "17                 5.1               3.5                1.4               0.3   \n",
        "18                 5.7               3.8                1.7               0.3   \n",
        "19                 5.1               3.8                1.5               0.3   \n",
        "20                 5.4               3.4                1.7               0.2   \n",
        "21                 5.1               3.7                1.5               0.4   \n",
        "22                 4.6               3.6                1.0               0.2   \n",
        "23                 5.1               3.3                1.7               0.5   \n",
        "24                 4.8               3.4                1.9               0.2   \n",
        "25                 5.0               3.0                1.6               0.2   \n",
        "26                 5.0               3.4                1.6               0.4   \n",
        "27                 5.2               3.5                1.5               0.2   \n",
        "28                 5.2               3.4                1.4               0.2   \n",
        "29                 4.7               3.2                1.6               0.2   \n",
        "..                 ...               ...                ...               ...   \n",
        "120                6.9               3.2                5.7               2.3   \n",
        "121                5.6               2.8                4.9               2.0   \n",
        "122                7.7               2.8                6.7               2.0   \n",
        "123                6.3               2.7                4.9               1.8   \n",
        "124                6.7               3.3                5.7               2.1   \n",
        "125                7.2               3.2                6.0               1.8   \n",
        "126                6.2               2.8                4.8               1.8   \n",
        "127                6.1               3.0                4.9               1.8   \n",
        "128                6.4               2.8                5.6               2.1   \n",
        "129                7.2               3.0                5.8               1.6   \n",
        "130                7.4               2.8                6.1               1.9   \n",
        "131                7.9               3.8                6.4               2.0   \n",
        "132                6.4               2.8                5.6               2.2   \n",
        "133                6.3               2.8                5.1               1.5   \n",
        "134                6.1               2.6                5.6               1.4   \n",
        "135                7.7               3.0                6.1               2.3   \n",
        "136                6.3               3.4                5.6               2.4   \n",
        "137                6.4               3.1                5.5               1.8   \n",
        "138                6.0               3.0                4.8               1.8   \n",
        "139                6.9               3.1                5.4               2.1   \n",
        "140                6.7               3.1                5.6               2.4   \n",
        "141                6.9               3.1                5.1               2.3   \n",
        "142                5.8               2.7                5.1               1.9   \n",
        "143                6.8               3.2                5.9               2.3   \n",
        "144                6.7               3.3                5.7               2.5   \n",
        "145                6.7               3.0                5.2               2.3   \n",
        "146                6.3               2.5                5.0               1.9   \n",
        "147                6.5               3.0                5.2               2.0   \n",
        "148                6.2               3.4                5.4               2.3   \n",
        "149                5.9               3.0                5.1               1.8   \n",
        "\n",
        "     target  \n",
        "0         0  \n",
        "1         0  \n",
        "2         0  \n",
        "3         0  \n",
        "4         0  \n",
        "5         0  \n",
        "6         0  \n",
        "7         0  \n",
        "8         0  \n",
        "9         0  \n",
        "10        0  \n",
        "11        0  \n",
        "12        0  \n",
        "13        0  \n",
        "14        0  \n",
        "15        0  \n",
        "16        0  \n",
        "17        0  \n",
        "18        0  \n",
        "19        0  \n",
        "20        0  \n",
        "21        0  \n",
        "22        0  \n",
        "23        0  \n",
        "24        0  \n",
        "25        0  \n",
        "26        0  \n",
        "27        0  \n",
        "28        0  \n",
        "29        0  \n",
        "..      ...  \n",
        "120       2  \n",
        "121       2  \n",
        "122       2  \n",
        "123       2  \n",
        "124       2  \n",
        "125       2  \n",
        "126       2  \n",
        "127       2  \n",
        "128       2  \n",
        "129       2  \n",
        "130       2  \n",
        "131       2  \n",
        "132       2  \n",
        "133       2  \n",
        "134       2  \n",
        "135       2  \n",
        "136       2  \n",
        "137       2  \n",
        "138       2  \n",
        "139       2  \n",
        "140       2  \n",
        "141       2  \n",
        "142       2  \n",
        "143       2  \n",
        "144       2  \n",
        "145       2  \n",
        "146       2  \n",
        "147       2  \n",
        "148       2  \n",
        "149       2  \n",
        "\n",
        "[150 rows x 5 columns]\n"
       ]
      }
     ],
     "prompt_number": 15
    },
    {
     "cell_type": "code",
     "collapsed": false,
     "input": [
      "#since the data is ordered, randomly shuffle\n",
      "iris_random = iris_df.reindex(np.random.permutation(iris_df.index))  \n",
      "print iris_random"
     ],
     "language": "python",
     "metadata": {},
     "outputs": [
      {
       "output_type": "stream",
       "stream": "stdout",
       "text": [
        "     sepal length (cm)  sepal width (cm)  petal length (cm)  petal width (cm)  \\\n",
        "84                 5.4               3.0                4.5               1.5   \n",
        "49                 5.0               3.3                1.4               0.2   \n",
        "12                 4.8               3.0                1.4               0.1   \n",
        "28                 5.2               3.4                1.4               0.2   \n",
        "36                 5.5               3.5                1.3               0.2   \n",
        "123                6.3               2.7                4.9               1.8   \n",
        "131                7.9               3.8                6.4               2.0   \n",
        "100                6.3               3.3                6.0               2.5   \n",
        "7                  5.0               3.4                1.5               0.2   \n",
        "130                7.4               2.8                6.1               1.9   \n",
        "31                 5.4               3.4                1.5               0.4   \n",
        "74                 6.4               2.9                4.3               1.3   \n",
        "16                 5.4               3.9                1.3               0.4   \n",
        "114                5.8               2.8                5.1               2.4   \n",
        "29                 4.7               3.2                1.6               0.2   \n",
        "96                 5.7               2.9                4.2               1.3   \n",
        "85                 6.0               3.4                4.5               1.6   \n",
        "22                 4.6               3.6                1.0               0.2   \n",
        "90                 5.5               2.6                4.4               1.2   \n",
        "62                 6.0               2.2                4.0               1.0   \n",
        "42                 4.4               3.2                1.3               0.2   \n",
        "83                 6.0               2.7                5.1               1.6   \n",
        "97                 6.2               2.9                4.3               1.3   \n",
        "112                6.8               3.0                5.5               2.1   \n",
        "45                 4.8               3.0                1.4               0.3   \n",
        "11                 4.8               3.4                1.6               0.2   \n",
        "48                 5.3               3.7                1.5               0.2   \n",
        "21                 5.1               3.7                1.5               0.4   \n",
        "105                7.6               3.0                6.6               2.1   \n",
        "18                 5.7               3.8                1.7               0.3   \n",
        "..                 ...               ...                ...               ...   \n",
        "32                 5.2               4.1                1.5               0.1   \n",
        "6                  4.6               3.4                1.4               0.3   \n",
        "102                7.1               3.0                5.9               2.1   \n",
        "110                6.5               3.2                5.1               2.0   \n",
        "104                6.5               3.0                5.8               2.2   \n",
        "8                  4.4               2.9                1.4               0.2   \n",
        "67                 5.8               2.7                4.1               1.0   \n",
        "107                7.3               2.9                6.3               1.8   \n",
        "147                6.5               3.0                5.2               2.0   \n",
        "140                6.7               3.1                5.6               2.4   \n",
        "101                5.8               2.7                5.1               1.9   \n",
        "122                7.7               2.8                6.7               2.0   \n",
        "64                 5.6               2.9                3.6               1.3   \n",
        "68                 6.2               2.2                4.5               1.5   \n",
        "59                 5.2               2.7                3.9               1.4   \n",
        "79                 5.7               2.6                3.5               1.0   \n",
        "121                5.6               2.8                4.9               2.0   \n",
        "15                 5.7               4.4                1.5               0.4   \n",
        "23                 5.1               3.3                1.7               0.5   \n",
        "129                7.2               3.0                5.8               1.6   \n",
        "58                 6.6               2.9                4.6               1.3   \n",
        "40                 5.0               3.5                1.3               0.3   \n",
        "78                 6.0               2.9                4.5               1.5   \n",
        "69                 5.6               2.5                3.9               1.1   \n",
        "144                6.7               3.3                5.7               2.5   \n",
        "95                 5.7               3.0                4.2               1.2   \n",
        "98                 5.1               2.5                3.0               1.1   \n",
        "117                7.7               3.8                6.7               2.2   \n",
        "13                 4.3               3.0                1.1               0.1   \n",
        "141                6.9               3.1                5.1               2.3   \n",
        "\n",
        "     target  \n",
        "84        1  \n",
        "49        0  \n",
        "12        0  \n",
        "28        0  \n",
        "36        0  \n",
        "123       2  \n",
        "131       2  \n",
        "100       2  \n",
        "7         0  \n",
        "130       2  \n",
        "31        0  \n",
        "74        1  \n",
        "16        0  \n",
        "114       2  \n",
        "29        0  \n",
        "96        1  \n",
        "85        1  \n",
        "22        0  \n",
        "90        1  \n",
        "62        1  \n",
        "42        0  \n",
        "83        1  \n",
        "97        1  \n",
        "112       2  \n",
        "45        0  \n",
        "11        0  \n",
        "48        0  \n",
        "21        0  \n",
        "105       2  \n",
        "18        0  \n",
        "..      ...  \n",
        "32        0  \n",
        "6         0  \n",
        "102       2  \n",
        "110       2  \n",
        "104       2  \n",
        "8         0  \n",
        "67        1  \n",
        "107       2  \n",
        "147       2  \n",
        "140       2  \n",
        "101       2  \n",
        "122       2  \n",
        "64        1  \n",
        "68        1  \n",
        "59        1  \n",
        "79        1  \n",
        "121       2  \n",
        "15        0  \n",
        "23        0  \n",
        "129       2  \n",
        "58        1  \n",
        "40        0  \n",
        "78        1  \n",
        "69        1  \n",
        "144       2  \n",
        "95        1  \n",
        "98        1  \n",
        "117       2  \n",
        "13        0  \n",
        "141       2  \n",
        "\n",
        "[150 rows x 5 columns]\n"
       ]
      }
     ],
     "prompt_number": 17
    },
    {
     "cell_type": "code",
     "collapsed": false,
     "input": [
      "#run model on one fold of the 150 sample, using array slicing \n",
      "firstFit = neighbors.KNeighborsClassifier(11)\n",
      "trainX = np.array(iris_random.ix[:,:4].values)[:120]\n",
      "trainY = np.array(iris_random.ix[:,4].values)[:120]\n",
      "firstFit.fit(trainX, trainY)\n",
      "testX = np.array(iris_random.ix[:,:4].values)[120:150]\n",
      "testY = np.array(iris_random.ix[:,4].values)[120:150]\n",
      "scoreOne = firstFit.score(testX, testY)\n",
      "print scoreOne         \n"
     ],
     "language": "python",
     "metadata": {},
     "outputs": [
      {
       "output_type": "stream",
       "stream": "stdout",
       "text": [
        "1.0\n"
       ]
      }
     ],
     "prompt_number": 33
    },
    {
     "cell_type": "code",
     "collapsed": false,
     "input": [
      "secondFit = neighbors.KNeighborsClassifier(11)\n",
      "trainX2 = np.array(iris_random.ix[:,:4].values)[30:150]\n",
      "trainY2 = np.array(iris_random.ix[:,4].values)[30:150]\n",
      "firstFit.fit(trainX2, trainY2)\n",
      "testX2 = np.array(iris_random.ix[:,:4].values)[:30]\n",
      "testY2 = np.array(iris_random.ix[:,4].values)[:30]\n",
      "scoreTwo = firstFit.score(testX2, testY2)\n",
      "print scoreTwo"
     ],
     "language": "python",
     "metadata": {},
     "outputs": [
      {
       "output_type": "stream",
       "stream": "stdout",
       "text": [
        "0.966666666667\n"
       ]
      }
     ],
     "prompt_number": 32
    },
    {
     "cell_type": "code",
     "collapsed": false,
     "input": [
      "ThirdFit = neighbors.KNeighborsClassifier(11)\n",
      "trainX3 = np.concatenate((np.array(iris_random.ix[:,:4].values)[:90], np.array(iris_random.ix[:,:4].values)[120:150]))\n",
      "trainY3 = np.concatenate((np.array(iris_random.ix[:,4].values)[:90], np.array(iris_random.ix[:,4].values)[120:150]))\n",
      "ThirdFit.fit(trainX3, trainY3)\n",
      "testX3 = np.array(iris_random.ix[:,:4].values)[90:120]\n",
      "testY3 = np.array(iris_random.ix[:,4].values)[90:120]\n",
      "scoreThree = ThirdFit.score(testX3, testY3)\n",
      "print scoreThree"
     ],
     "language": "python",
     "metadata": {},
     "outputs": [
      {
       "output_type": "stream",
       "stream": "stdout",
       "text": [
        "0.933333333333\n"
       ]
      }
     ],
     "prompt_number": 29
    },
    {
     "cell_type": "code",
     "collapsed": false,
     "input": [
      "FourthFit = neighbors.KNeighborsClassifier(11)\n",
      "trainX4 = np.concatenate((np.array(iris_random.ix[:,:4].values)[:30], np.array(iris_random.ix[:,:4].values)[60:150]))\n",
      "trainY4 = np.concatenate((np.array(iris_random.ix[:,4].values)[:30], np.array(iris_random.ix[:,4].values)[60:150]))\n",
      "FourthFit.fit(trainX4, trainY4)\n",
      "testX4 = np.array(iris_random.ix[:,:4].values)[30:60]\n",
      "testY4 = np.array(iris_random.ix[:,4].values)[30:60]\n",
      "scoreFour = FourthFit.score(testX4, testY4)\n",
      "print scoreFour"
     ],
     "language": "python",
     "metadata": {},
     "outputs": [
      {
       "output_type": "stream",
       "stream": "stdout",
       "text": [
        "0.933333333333\n"
       ]
      }
     ],
     "prompt_number": 27
    },
    {
     "cell_type": "code",
     "collapsed": false,
     "input": [
      "FifthFit = neighbors.KNeighborsClassifier(11)\n",
      "trainX5 = np.concatenate((np.array(iris_random.ix[:,:4].values)[:60], np.array(iris_random.ix[:,:4].values)[90:150]))\n",
      "trainY5 = np.concatenate((np.array(iris_random.ix[:,4].values)[:60], np.array(iris_random.ix[:,4].values)[90:150]))\n",
      "FifthFit.fit(trainX5, trainY5)\n",
      "testX5 = np.array(iris_random.ix[:,:4].values)[60:90]\n",
      "testY5 = np.array(iris_random.ix[:,4].values)[60:90]\n",
      "scoreFive = FifthFit.score(testX5, testY5)\n",
      "print scoreFive"
     ],
     "language": "python",
     "metadata": {},
     "outputs": [
      {
       "output_type": "stream",
       "stream": "stdout",
       "text": [
        "0.933333333333\n"
       ]
      }
     ],
     "prompt_number": 30
    },
    {
     "cell_type": "code",
     "collapsed": false,
     "input": [
      "FinalScore = (scoreOne + scoreTwo + scoreThree + scoreFour + scoreFive)/5"
     ],
     "language": "python",
     "metadata": {},
     "outputs": [],
     "prompt_number": 36
    },
    {
     "cell_type": "code",
     "collapsed": false,
     "input": [
      "print FinalScore"
     ],
     "language": "python",
     "metadata": {},
     "outputs": [
      {
       "output_type": "stream",
       "stream": "stdout",
       "text": [
        "0.953333333333\n"
       ]
      }
     ],
     "prompt_number": 37
    },
    {
     "cell_type": "code",
     "collapsed": false,
     "input": [
      "#6 - Extra - play with different values for k folds, and determine whether there's an optimal \n",
      "from sklearn.cross_validation import cross_val_score\n",
      "iris = datasets.load_iris()\n",
      "iris_df = pd.DataFrame(iris.data, columns=iris.feature_names)\n",
      "clf = neighbors.KNeighborsClassifier(11, weights='uniform')\n",
      "scores = cross_val_score(clf, iris_df.values, iris.target, cv=10)\n",
      "print scores\n",
      "print scores.mean()"
     ],
     "language": "python",
     "metadata": {},
     "outputs": [
      {
       "output_type": "stream",
       "stream": "stdout",
       "text": [
        "[ 1.          0.93333333  1.          1.          1.          0.86666667\n",
        "  0.93333333  0.93333333  1.          1.        ]\n",
        "0.966666666667\n"
       ]
      }
     ],
     "prompt_number": 49
    },
    {
     "cell_type": "code",
     "collapsed": false,
     "input": [
      "#  The error rate of the model goes up when # of folds gets below 4 and above 8, this is likely because we are undertraining \n",
      "# when k gets too high and the training set for each fold becomes too low; or we are overfitting if k is too small"
     ],
     "language": "python",
     "metadata": {},
     "outputs": [],
     "prompt_number": 50
    },
    {
     "cell_type": "code",
     "collapsed": false,
     "input": [],
     "language": "python",
     "metadata": {},
     "outputs": []
    }
   ],
   "metadata": {}
  }
 ]
}